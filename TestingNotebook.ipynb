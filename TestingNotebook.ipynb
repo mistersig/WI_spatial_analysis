{
 "cells": [
  {
   "cell_type": "code",
   "execution_count": 6,
   "metadata": {},
   "outputs": [],
   "source": [
    "%matplotlib inline\n",
    "import geopandas as gpd"
   ]
  },
  {
   "cell_type": "code",
   "execution_count": 11,
   "metadata": {},
   "outputs": [],
   "source": [
    "cancerCounty = gpd.read_file('/Users/sig/projects/geospatialProject1/data/files/cancer_county')\n",
    "cancerTracts = gpd.read_file('/Users/sig/projects/geospatialProject1/data/files/cancer_tracts')\n",
    "wellNitrate = gpd.read_file('/Users/sig/projects/geospatialProject1/data/files/well_nitrate')"
   ]
  },
  {
   "cell_type": "code",
   "execution_count": 8,
   "metadata": {},
   "outputs": [
    {
     "data": {
      "text/plain": [
       "Index(['GEOID10', 'canrate', 'cid', 'nitrate', 'geometry'], dtype='object')"
      ]
     },
     "execution_count": 8,
     "metadata": {},
     "output_type": "execute_result"
    }
   ],
   "source": [
    "cancerCounty.columns"
   ]
  },
  {
   "cell_type": "code",
   "execution_count": 9,
   "metadata": {},
   "outputs": [
    {
     "data": {
      "text/html": [
       "<div>\n",
       "<style scoped>\n",
       "    .dataframe tbody tr th:only-of-type {\n",
       "        vertical-align: middle;\n",
       "    }\n",
       "\n",
       "    .dataframe tbody tr th {\n",
       "        vertical-align: top;\n",
       "    }\n",
       "\n",
       "    .dataframe thead th {\n",
       "        text-align: right;\n",
       "    }\n",
       "</style>\n",
       "<table border=\"1\" class=\"dataframe\">\n",
       "  <thead>\n",
       "    <tr style=\"text-align: right;\">\n",
       "      <th></th>\n",
       "      <th>GEOID10</th>\n",
       "      <th>canrate</th>\n",
       "      <th>cid</th>\n",
       "      <th>nitrate</th>\n",
       "      <th>geometry</th>\n",
       "    </tr>\n",
       "  </thead>\n",
       "  <tbody>\n",
       "    <tr>\n",
       "      <th>0</th>\n",
       "      <td>55125950600</td>\n",
       "      <td>0.49</td>\n",
       "      <td>5512</td>\n",
       "      <td>4.0764</td>\n",
       "      <td>(POLYGON ((-89.487471 45.898407, -89.487491999...</td>\n",
       "    </tr>\n",
       "    <tr>\n",
       "      <th>1</th>\n",
       "      <td>55133204003</td>\n",
       "      <td>0.20</td>\n",
       "      <td>5513</td>\n",
       "      <td>2.4071</td>\n",
       "      <td>(POLYGON ((-88.30638399999999 42.842095, -88.3...</td>\n",
       "    </tr>\n",
       "    <tr>\n",
       "      <th>2</th>\n",
       "      <td>55141011500</td>\n",
       "      <td>0.07</td>\n",
       "      <td>5514</td>\n",
       "      <td>0.6522</td>\n",
       "      <td>POLYGON ((-89.724954 44.395104, -89.7249209999...</td>\n",
       "    </tr>\n",
       "    <tr>\n",
       "      <th>3</th>\n",
       "      <td>55119960500</td>\n",
       "      <td>0.00</td>\n",
       "      <td>5511</td>\n",
       "      <td>3.0118</td>\n",
       "      <td>(POLYGON ((-90.925287 45.301965, -90.925282999...</td>\n",
       "    </tr>\n",
       "    <tr>\n",
       "      <th>4</th>\n",
       "      <td>55078940101</td>\n",
       "      <td>0.01</td>\n",
       "      <td>5507</td>\n",
       "      <td>4.2507</td>\n",
       "      <td>(POLYGON ((-87.95199199999999 42.843547, -87.9...</td>\n",
       "    </tr>\n",
       "  </tbody>\n",
       "</table>\n",
       "</div>"
      ],
      "text/plain": [
       "       GEOID10  canrate   cid  nitrate  \\\n",
       "0  55125950600     0.49  5512   4.0764   \n",
       "1  55133204003     0.20  5513   2.4071   \n",
       "2  55141011500     0.07  5514   0.6522   \n",
       "3  55119960500     0.00  5511   3.0118   \n",
       "4  55078940101     0.01  5507   4.2507   \n",
       "\n",
       "                                            geometry  \n",
       "0  (POLYGON ((-89.487471 45.898407, -89.487491999...  \n",
       "1  (POLYGON ((-88.30638399999999 42.842095, -88.3...  \n",
       "2  POLYGON ((-89.724954 44.395104, -89.7249209999...  \n",
       "3  (POLYGON ((-90.925287 45.301965, -90.925282999...  \n",
       "4  (POLYGON ((-87.95199199999999 42.843547, -87.9...  "
      ]
     },
     "execution_count": 9,
     "metadata": {},
     "output_type": "execute_result"
    }
   ],
   "source": [
    "cancerCounty.head()"
   ]
  },
  {
   "cell_type": "code",
   "execution_count": 12,
   "metadata": {},
   "outputs": [
    {
     "data": {
      "text/html": [
       "<div>\n",
       "<style scoped>\n",
       "    .dataframe tbody tr th:only-of-type {\n",
       "        vertical-align: middle;\n",
       "    }\n",
       "\n",
       "    .dataframe tbody tr th {\n",
       "        vertical-align: top;\n",
       "    }\n",
       "\n",
       "    .dataframe thead th {\n",
       "        text-align: right;\n",
       "    }\n",
       "</style>\n",
       "<table border=\"1\" class=\"dataframe\">\n",
       "  <thead>\n",
       "    <tr style=\"text-align: right;\">\n",
       "      <th></th>\n",
       "      <th>GEOID10</th>\n",
       "      <th>canrate</th>\n",
       "      <th>nitrate</th>\n",
       "      <th>geometry</th>\n",
       "    </tr>\n",
       "  </thead>\n",
       "  <tbody>\n",
       "    <tr>\n",
       "      <th>0</th>\n",
       "      <td>55037190100</td>\n",
       "      <td>0.03</td>\n",
       "      <td>3.4160</td>\n",
       "      <td>POLYGON ((-88.33931899999999 45.885932, -88.33...</td>\n",
       "    </tr>\n",
       "    <tr>\n",
       "      <th>1</th>\n",
       "      <td>55037190200</td>\n",
       "      <td>0.11</td>\n",
       "      <td>2.9481</td>\n",
       "      <td>POLYGON ((-88.156606 45.716796, -88.161957 45....</td>\n",
       "    </tr>\n",
       "    <tr>\n",
       "      <th>2</th>\n",
       "      <td>55019950300</td>\n",
       "      <td>0.09</td>\n",
       "      <td>4.8840</td>\n",
       "      <td>POLYGON ((-90.64165 44.945088, -90.641668 44.9...</td>\n",
       "    </tr>\n",
       "    <tr>\n",
       "      <th>3</th>\n",
       "      <td>55019950700</td>\n",
       "      <td>0.01</td>\n",
       "      <td>4.8781</td>\n",
       "      <td>POLYGON ((-90.650733 44.562148, -90.651234 44....</td>\n",
       "    </tr>\n",
       "    <tr>\n",
       "      <th>4</th>\n",
       "      <td>55019950600</td>\n",
       "      <td>0.13</td>\n",
       "      <td>3.6830</td>\n",
       "      <td>POLYGON ((-90.336474 44.685055, -90.336339 44....</td>\n",
       "    </tr>\n",
       "  </tbody>\n",
       "</table>\n",
       "</div>"
      ],
      "text/plain": [
       "       GEOID10  canrate  nitrate  \\\n",
       "0  55037190100     0.03   3.4160   \n",
       "1  55037190200     0.11   2.9481   \n",
       "2  55019950300     0.09   4.8840   \n",
       "3  55019950700     0.01   4.8781   \n",
       "4  55019950600     0.13   3.6830   \n",
       "\n",
       "                                            geometry  \n",
       "0  POLYGON ((-88.33931899999999 45.885932, -88.33...  \n",
       "1  POLYGON ((-88.156606 45.716796, -88.161957 45....  \n",
       "2  POLYGON ((-90.64165 44.945088, -90.641668 44.9...  \n",
       "3  POLYGON ((-90.650733 44.562148, -90.651234 44....  \n",
       "4  POLYGON ((-90.336474 44.685055, -90.336339 44....  "
      ]
     },
     "execution_count": 12,
     "metadata": {},
     "output_type": "execute_result"
    }
   ],
   "source": [
    "cancerTracts.head()\n"
   ]
  },
  {
   "cell_type": "code",
   "execution_count": 13,
   "metadata": {},
   "outputs": [
    {
     "data": {
      "text/html": [
       "<div>\n",
       "<style scoped>\n",
       "    .dataframe tbody tr th:only-of-type {\n",
       "        vertical-align: middle;\n",
       "    }\n",
       "\n",
       "    .dataframe tbody tr th {\n",
       "        vertical-align: top;\n",
       "    }\n",
       "\n",
       "    .dataframe thead th {\n",
       "        text-align: right;\n",
       "    }\n",
       "</style>\n",
       "<table border=\"1\" class=\"dataframe\">\n",
       "  <thead>\n",
       "    <tr style=\"text-align: right;\">\n",
       "      <th></th>\n",
       "      <th>TARGET_FID</th>\n",
       "      <th>nitr_ran</th>\n",
       "      <th>geometry</th>\n",
       "    </tr>\n",
       "  </thead>\n",
       "  <tbody>\n",
       "    <tr>\n",
       "      <th>0</th>\n",
       "      <td>0</td>\n",
       "      <td>4.307932</td>\n",
       "      <td>POINT (-89.4790088 44.2088619)</td>\n",
       "    </tr>\n",
       "    <tr>\n",
       "      <th>1</th>\n",
       "      <td>10</td>\n",
       "      <td>5.725421</td>\n",
       "      <td>POINT (-88.1881436 42.49918548)</td>\n",
       "    </tr>\n",
       "    <tr>\n",
       "      <th>2</th>\n",
       "      <td>20</td>\n",
       "      <td>4.349957</td>\n",
       "      <td>POINT (-87.9525788 42.50307538)</td>\n",
       "    </tr>\n",
       "    <tr>\n",
       "      <th>3</th>\n",
       "      <td>30</td>\n",
       "      <td>3.570353</td>\n",
       "      <td>POINT (-88.08508399999999 42.5058525)</td>\n",
       "    </tr>\n",
       "    <tr>\n",
       "      <th>4</th>\n",
       "      <td>40</td>\n",
       "      <td>8.157765</td>\n",
       "      <td>POINT (-90.21568190000001 42.50805959)</td>\n",
       "    </tr>\n",
       "  </tbody>\n",
       "</table>\n",
       "</div>"
      ],
      "text/plain": [
       "   TARGET_FID  nitr_ran                                geometry\n",
       "0           0  4.307932          POINT (-89.4790088 44.2088619)\n",
       "1          10  5.725421         POINT (-88.1881436 42.49918548)\n",
       "2          20  4.349957         POINT (-87.9525788 42.50307538)\n",
       "3          30  3.570353   POINT (-88.08508399999999 42.5058525)\n",
       "4          40  8.157765  POINT (-90.21568190000001 42.50805959)"
      ]
     },
     "execution_count": 13,
     "metadata": {},
     "output_type": "execute_result"
    }
   ],
   "source": [
    "wellNitrate.head()"
   ]
  },
  {
   "cell_type": "raw",
   "metadata": {},
   "source": []
  }
 ],
 "metadata": {
  "kernelspec": {
   "display_name": "Python 3",
   "language": "python",
   "name": "python3"
  },
  "language_info": {
   "codemirror_mode": {
    "name": "ipython",
    "version": 3
   },
   "file_extension": ".py",
   "mimetype": "text/x-python",
   "name": "python",
   "nbconvert_exporter": "python",
   "pygments_lexer": "ipython3",
   "version": "3.7.0"
  }
 },
 "nbformat": 4,
 "nbformat_minor": 2
}
